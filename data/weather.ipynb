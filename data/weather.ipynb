{
 "cells": [
  {
   "cell_type": "markdown",
   "metadata": {},
   "source": [
    "# Weather Analysis\n",
    "## Collecting the Data\n",
    "\n",
    "The following code outputs the filename used to store the data file'\n",
    "```bash\n",
    "date +\"%Y%m%d_%H%M%S_athenry.json \n",
    "```\n",
    "The `%Y` is replaced by the four-digit year (e.g 2024).\\\n",
    "The `%m` is replaced by the four-digit month (e.g 11).\\\n",
    "The `%d` is replaced by the four-digit day (e.g 13).\\\n",
    "The `%H` is replaced by the four-digit hour (e.g 21).\\\n",
    "The `%M` is replaced by the four-digit minutes (e.g 43).\\\n",
    "The `%s` is replaced by the four-digit seconds (e.g 55)."
   ]
  },
  {
   "cell_type": "code",
   "execution_count": null,
   "metadata": {},
   "outputs": [
    {
     "name": "stdout",
     "output_type": "stream",
     "text": [
      "      name  temperature symbol weatherDescription           text windSpeed  \\\n",
      "0  Athenry          6.0    46n        Light rain   \"Light rain \"         4   \n",
      "1  Athenry          5.0    05n       Rain showers  \"Rain shower\"         4   \n",
      "2  Athenry          5.0    05n       Rain showers  \"Rain shower\"         2   \n",
      "\n",
      "  windGust cardinalWindDirection  windDirection  humidity  rainfall  pressure  \\\n",
      "0        -                     E             90        99      0.01    1041.0   \n",
      "1        -                    NE             45        99      0.01    1040.0   \n",
      "2        -                     N              0        99      0.10    1040.0   \n",
      "\n",
      "     dayName       date reportTime  \n",
      "0  Wednesday 2024-11-13      00:00  \n",
      "1  Wednesday 2024-11-13      01:00  \n",
      "2  Wednesday 2024-11-13      02:00  \n"
     ]
    }
   ],
   "source": [
    "## Analysing Data\n",
    "\n",
    "# DataFrame\n",
    "import pandas as pd\n",
    "\n",
    "# Reading data\n",
    "df = pd.read_json(\"/workspaces/computer_infrastructure/data/weather/20241113_183029_athenry.json\")\n",
    "\n",
    "# show\n",
    "print(df.head(3))"
   ]
  },
  {
   "cell_type": "markdown",
   "metadata": {},
   "source": []
  },
  {
   "cell_type": "markdown",
   "metadata": {},
   "source": []
  }
 ],
 "metadata": {
  "kernelspec": {
   "display_name": "Python 3",
   "language": "python",
   "name": "python3"
  },
  "language_info": {
   "codemirror_mode": {
    "name": "ipython",
    "version": 3
   },
   "file_extension": ".py",
   "mimetype": "text/x-python",
   "name": "python",
   "nbconvert_exporter": "python",
   "pygments_lexer": "ipython3",
   "version": "3.12.1"
  }
 },
 "nbformat": 4,
 "nbformat_minor": 2
}
